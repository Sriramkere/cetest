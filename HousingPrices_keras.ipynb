{
  "nbformat": 4,
  "nbformat_minor": 0,
  "metadata": {
    "colab": {
      "name": "HousingPrices_keras.ipynb",
      "provenance": [],
      "mount_file_id": "1heQWcs6eIaP8MF_zcNE-ADokUIzoTuU5",
      "authorship_tag": "ABX9TyOfRrU5ewggAAHOsYyFivtK",
      "include_colab_link": true
    },
    "kernelspec": {
      "name": "python3",
      "display_name": "Python 3"
    },
    "language_info": {
      "name": "python"
    }
  },
  "cells": [
    {
      "cell_type": "markdown",
      "metadata": {
        "id": "view-in-github",
        "colab_type": "text"
      },
      "source": [
        "<a href=\"https://colab.research.google.com/github/Sriramkere/cetest/blob/main/HousingPrices_keras.ipynb\" target=\"_parent\"><img src=\"https://colab.research.google.com/assets/colab-badge.svg\" alt=\"Open In Colab\"/></a>"
      ]
    },
    {
      "cell_type": "code",
      "metadata": {
        "id": "FxMCQBBcyUl1"
      },
      "source": [
        "import keras\n",
        "import numpy as np\n",
        "import pandas as pd\n",
        "import matplotlib.pyplot as plt "
      ],
      "execution_count": null,
      "outputs": []
    },
    {
      "cell_type": "code",
      "metadata": {
        "colab": {
          "base_uri": "https://localhost:8080/"
        },
        "id": "pbIUWYKw0bZF",
        "outputId": "f8944dce-8d14-4b48-ca3e-f947f0075a09"
      },
      "source": [
        "from google.colab import drive\n",
        "drive.mount('/content/drive')\n"
      ],
      "execution_count": null,
      "outputs": [
        {
          "output_type": "stream",
          "name": "stdout",
          "text": [
            "Drive already mounted at /content/drive; to attempt to forcibly remount, call drive.mount(\"/content/drive\", force_remount=True).\n"
          ]
        }
      ]
    },
    {
      "cell_type": "markdown",
      "metadata": {
        "id": "mtLIq9BA1ABJ"
      },
      "source": [
        "# New Section"
      ]
    },
    {
      "cell_type": "markdown",
      "metadata": {
        "id": "--w31rzZ1Alh"
      },
      "source": [
        "# New Section"
      ]
    },
    {
      "cell_type": "code",
      "metadata": {
        "id": "4tLHBkxS0qUZ"
      },
      "source": [
        "df=pd.read_csv('drive/My Drive/LearnML/LearnKeras-master/1.LinearRegression/IowaHousingPrices.csv')"
      ],
      "execution_count": null,
      "outputs": []
    },
    {
      "cell_type": "code",
      "metadata": {
        "id": "YpAcVcpr2xWb"
      },
      "source": [
        "squareFeet = df[['SquareFeet']].values \n",
        "salePrice = df[['SalePrice']].values"
      ],
      "execution_count": null,
      "outputs": []
    },
    {
      "cell_type": "code",
      "metadata": {
        "id": "BAoWuGRijZzc"
      },
      "source": [
        "from tensorflow.keras import optimizers"
      ],
      "execution_count": null,
      "outputs": []
    },
    {
      "cell_type": "code",
      "metadata": {
        "id": "zYqY6PSRnnyJ"
      },
      "source": [
        "import tensorflow.compat.v2 as tf\n",
        "from keras import backend_config\n",
        "from keras.optimizer_v2 import optimizer_v2\n",
        "from tensorflow.python.util.tf_export import keras_export"
      ],
      "execution_count": null,
      "outputs": []
    },
    {
      "cell_type": "markdown",
      "metadata": {
        "id": "OKgZDDvfnndv"
      },
      "source": [
        ""
      ]
    },
    {
      "cell_type": "code",
      "metadata": {
        "colab": {
          "base_uri": "https://localhost:8080/"
        },
        "id": "PDtJ21oFjbfk",
        "outputId": "ae2ea41f-f359-42c4-e5a2-2a391aa7eb39"
      },
      "source": [
        "optimizers.RMSprop()"
      ],
      "execution_count": null,
      "outputs": [
        {
          "output_type": "execute_result",
          "data": {
            "text/plain": [
              "<keras.optimizer_v2.rmsprop.RMSprop at 0x7fa0ed127e50>"
            ]
          },
          "metadata": {},
          "execution_count": 11
        }
      ]
    },
    {
      "cell_type": "code",
      "metadata": {
        "colab": {
          "base_uri": "https://localhost:8080/"
        },
        "id": "pSEJ279n9Oe1",
        "outputId": "9e61bf5e-72be-4570-99f9-781fbd6205e3"
      },
      "source": [
        "\n",
        "\n",
        "model = keras.Sequential()\n",
        "model.add(keras.layers.Dense(1, input_shape=(1,)))\n",
        "model.compile(tf.keras.optimizers.Adam(lr=1), 'mean_squared_error' )\n",
        "model.fit(squareFeet,salePrice, epochs=30, batch_size=10)"
      ],
      "execution_count": null,
      "outputs": [
        {
          "output_type": "stream",
          "name": "stderr",
          "text": [
            "/usr/local/lib/python3.7/dist-packages/keras/optimizer_v2/optimizer_v2.py:356: UserWarning: The `lr` argument is deprecated, use `learning_rate` instead.\n",
            "  \"The `lr` argument is deprecated, use `learning_rate` instead.\")\n"
          ]
        },
        {
          "output_type": "stream",
          "name": "stdout",
          "text": [
            "Epoch 1/30\n",
            "146/146 [==============================] - 1s 1000us/step - loss: 14339256320.0000\n",
            "Epoch 2/30\n",
            "146/146 [==============================] - 0s 948us/step - loss: 3346369792.0000\n",
            "Epoch 3/30\n",
            "146/146 [==============================] - 0s 1ms/step - loss: 3187391744.0000\n",
            "Epoch 4/30\n",
            "146/146 [==============================] - 0s 1ms/step - loss: 3192937728.0000\n",
            "Epoch 5/30\n",
            "146/146 [==============================] - 0s 990us/step - loss: 3196585472.0000\n",
            "Epoch 6/30\n",
            "146/146 [==============================] - 0s 1ms/step - loss: 3193051392.0000\n",
            "Epoch 7/30\n",
            "146/146 [==============================] - 0s 1ms/step - loss: 3193840640.0000\n",
            "Epoch 8/30\n",
            "146/146 [==============================] - 0s 1ms/step - loss: 3180410624.0000\n",
            "Epoch 9/30\n",
            "146/146 [==============================] - 0s 1ms/step - loss: 3194601984.0000\n",
            "Epoch 10/30\n",
            "146/146 [==============================] - 0s 940us/step - loss: 3191450624.0000\n",
            "Epoch 11/30\n",
            "146/146 [==============================] - 0s 1ms/step - loss: 3190281728.0000\n",
            "Epoch 12/30\n",
            "146/146 [==============================] - 0s 991us/step - loss: 3195831552.0000\n",
            "Epoch 13/30\n",
            "146/146 [==============================] - 0s 1ms/step - loss: 3195681792.0000\n",
            "Epoch 14/30\n",
            "146/146 [==============================] - 0s 1ms/step - loss: 3191481088.0000\n",
            "Epoch 15/30\n",
            "146/146 [==============================] - 0s 1ms/step - loss: 3204905472.0000\n",
            "Epoch 16/30\n",
            "146/146 [==============================] - 0s 1ms/step - loss: 3203252736.0000\n",
            "Epoch 17/30\n",
            "146/146 [==============================] - 0s 992us/step - loss: 3208944128.0000\n",
            "Epoch 18/30\n",
            "146/146 [==============================] - 0s 975us/step - loss: 3184370176.0000\n",
            "Epoch 19/30\n",
            "146/146 [==============================] - 0s 992us/step - loss: 3211941376.0000\n",
            "Epoch 20/30\n",
            "146/146 [==============================] - 0s 1ms/step - loss: 3203742208.0000\n",
            "Epoch 21/30\n",
            "146/146 [==============================] - 0s 1ms/step - loss: 3204842240.0000\n",
            "Epoch 22/30\n",
            "146/146 [==============================] - 0s 1ms/step - loss: 3179827200.0000\n",
            "Epoch 23/30\n",
            "146/146 [==============================] - 0s 924us/step - loss: 3218396416.0000\n",
            "Epoch 24/30\n",
            "146/146 [==============================] - 0s 1ms/step - loss: 3226829312.0000\n",
            "Epoch 25/30\n",
            "146/146 [==============================] - 0s 956us/step - loss: 3205750016.0000\n",
            "Epoch 26/30\n",
            "146/146 [==============================] - 0s 1ms/step - loss: 3200189440.0000\n",
            "Epoch 27/30\n",
            "146/146 [==============================] - 0s 952us/step - loss: 3207933696.0000\n",
            "Epoch 28/30\n",
            "146/146 [==============================] - 0s 1ms/step - loss: 3212373504.0000\n",
            "Epoch 29/30\n",
            "146/146 [==============================] - 0s 976us/step - loss: 3199123200.0000\n",
            "Epoch 30/30\n",
            "146/146 [==============================] - 0s 988us/step - loss: 3194279680.0000\n"
          ]
        },
        {
          "output_type": "execute_result",
          "data": {
            "text/plain": [
              "<keras.callbacks.History at 0x7fa0ec107f10>"
            ]
          },
          "metadata": {},
          "execution_count": 26
        }
      ]
    },
    {
      "cell_type": "code",
      "metadata": {
        "colab": {
          "base_uri": "https://localhost:8080/",
          "height": 312
        },
        "id": "E7wBQCPjoiXW",
        "outputId": "cfdacd51-f710-456a-ca44-9c7a62639933"
      },
      "source": [
        "df.plot(kind='scatter',\n",
        "       x='SquareFeet',\n",
        "       y='SalePrice', title='Housing Prices and Square Footage of Iowa Homes')\n",
        "\n",
        "\n",
        "y_pred = model.predict(squareFeet)\n",
        "plt.plot(squareFeet, y_pred, color='red')"
      ],
      "execution_count": null,
      "outputs": [
        {
          "output_type": "execute_result",
          "data": {
            "text/plain": [
              "[<matplotlib.lines.Line2D at 0x7fa13a485b50>]"
            ]
          },
          "metadata": {},
          "execution_count": 27
        },
        {
          "output_type": "display_data",
          "data": {
            "image/png": "[encoded data removed]",
            "text/plain": [
              "<Figure size 432x288 with 1 Axes>"
            ]
          },
          "metadata": {
            "needs_background": "light"
          }
        }
      ]
    },
    {
      "cell_type": "code",
      "metadata": {
        "colab": {
          "base_uri": "https://localhost:8080/"
        },
        "id": "TZUmKGVsou7z",
        "outputId": "a4d65563-b6b2-45fc-c528-7b453e85404c"
      },
      "source": [
        "sr = 2000\n",
        "print (model.predict([sr]))"
      ],
      "execution_count": null,
      "outputs": [
        {
          "output_type": "stream",
          "name": "stdout",
          "text": [
            "[[228455.5]]\n"
          ]
        }
      ]
    },
    {
      "cell_type": "code",
      "metadata": {
        "id": "wltYJ2Qao_Ik"
      },
      "source": [
        ""
      ],
      "execution_count": null,
      "outputs": []
    }
  ]
}